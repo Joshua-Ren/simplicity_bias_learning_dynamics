{
 "cells": [
  {
   "cell_type": "markdown",
   "id": "8686c38f-2f65-4be0-bd2f-d48359cc4ca6",
   "metadata": {},
   "source": []
  },
  {
   "cell_type": "code",
   "execution_count": 1,
   "id": "73b03d44-b9dc-4b4c-9de1-6d3304bae466",
   "metadata": {},
   "outputs": [],
   "source": [
    "import matplotlib.pyplot as plt\n",
    "import numpy as np\n",
    "import torch\n",
    "import torchvision\n",
    "import torchvision.transforms as T\n",
    "\n",
    "DATA_PATH = 'E://DATASET//dsprites_ndarray_co1sh3sc6or40x32y32_64x64.npz'\n",
    "pallette = [[31, 119, 180],\n",
    "             [255, 127, 14],\n",
    "             [44, 160, 44],\n",
    "             [214, 39, 40],\n",
    "             [148, 103, 189],\n",
    "             [140, 86, 75],\n",
    "             [227, 119, 194],\n",
    "             [127, 127, 127],\n",
    "             [188, 189, 34],\n",
    "             [23, 190, 207]]"
   ]
  },
  {
   "cell_type": "code",
   "execution_count": 2,
   "id": "bd444a3b-2b69-47c7-821e-6cec0c6c8847",
   "metadata": {},
   "outputs": [],
   "source": [
    "# ----- Select 4 images\n",
    "data_dsprite = np.load(DATA_PATH)"
   ]
  },
  {
   "cell_type": "code",
   "execution_count": 3,
   "id": "10488f21-20c6-4aa3-8e85-98193d9d7e94",
   "metadata": {},
   "outputs": [
    {
     "name": "stdout",
     "output_type": "stream",
     "text": [
      "[ 0  0  5  0  2 16]\n",
      "[ 0  1  5  0  2 16]\n",
      "[ 0  2  5  0  2 16]\n"
     ]
    }
   ],
   "source": [
    "print(data_dsprite['latents_classes'][80+204800+245760*0])\n",
    "print(data_dsprite['latents_classes'][80+204800+245760])  #7587\n",
    "print(data_dsprite['latents_classes'][80+204800+245760*2])"
   ]
  },
  {
   "cell_type": "code",
   "execution_count": 4,
   "id": "3c7c3523-43a9-4f5d-aed3-6c35e063c77c",
   "metadata": {},
   "outputs": [],
   "source": [
    "square = data_dsprite['imgs'][80+204800+245760*0]\n",
    "ellipse = data_dsprite['imgs'][80+204800+245760]\n",
    "heart = data_dsprite['imgs'][80+204800+245760*2]"
   ]
  },
  {
   "cell_type": "code",
   "execution_count": 5,
   "id": "a3811ad0-8a80-4c15-ac66-238ad13b56af",
   "metadata": {},
   "outputs": [],
   "source": [
    "def colored(digit, color_id):\n",
    "    digit = np.tile(digit[:, :, :, np.newaxis], 3)[0]\n",
    "    c = pallette[color_id]\n",
    "    digit[:, :, 0] = digit[:, :, 0] / 255 * c[0]\n",
    "    digit[:, :, 1] = digit[:, :, 1] / 255 * c[1]\n",
    "    digit[:, :, 2] = digit[:, :, 2] / 255 * c[2]\n",
    "    return digit"
   ]
  },
  {
   "cell_type": "code",
   "execution_count": 6,
   "id": "d192a67a-ae16-4b26-b4f9-f1bda73c0695",
   "metadata": {},
   "outputs": [],
   "source": [
    "square_ = np.expand_dims(square, axis=0).astype(float)\n",
    "square_blue = colored(square_, 0)\n",
    "square_red = colored(square_, 3)\n",
    "square_pink = colored(square_, 6)\n",
    "square_cyan = colored(square_, 9)\n",
    "\n",
    "ellipse_ = np.expand_dims(ellipse, axis=0).astype(float)\n",
    "ellipse_blue = colored(ellipse_, 0)\n",
    "ellipse_red = colored(ellipse_, 3)\n",
    "ellipse_pink = colored(ellipse_, 6)\n",
    "ellipse_cyan = colored(ellipse_, 9)\n",
    "\n",
    "heart_ = np.expand_dims(heart, axis=0).astype(float)\n",
    "heart_blue = colored(heart_, 0)\n",
    "heart_red = colored(heart_, 3)\n",
    "heart_pink = colored(heart_, 6)\n",
    "heart_cyan = colored(heart_, 9)"
   ]
  },
  {
   "cell_type": "code",
   "execution_count": 12,
   "id": "04a003a2-a3d7-433b-813d-19e2b08959b8",
   "metadata": {},
   "outputs": [],
   "source": [
    "shape_list = ['square', 'ellipse', 'heart']\n",
    "color_list = ['blue', 'red', 'pink', 'cyan']\n",
    "npsave_tmp = np.zeros((12, 32, 32, 3))\n",
    "\n",
    "for i in range(3):\n",
    "    for j in range(4):\n",
    "        idx = j+i*4\n",
    "        npsave_tmp[idx,:,:,:] = eval('%s_%s'%(shape_list[i],color_list[j]))[15:15+32,2:2+32,:] #[::2,::2,:]"
   ]
  },
  {
   "cell_type": "code",
   "execution_count": 15,
   "id": "34c2cd40-143b-4abc-8862-2544fc95d5fe",
   "metadata": {},
   "outputs": [],
   "source": [
    "npsave_3x6 = np.zeros((18, 32, 32, 3))\n",
    "OBJ_LIST = ['heart', 'square', 'ellipse']\n",
    "heart_ = np.expand_dims(heart, axis=0).astype(float)\n",
    "heart_blue = colored(heart_, 0)\n",
    "\n",
    "for i in range(3):\n",
    "    for j in range(6):\n",
    "        obj = np.expand_dims(eval(OBJ_LIST[i]), axis=0).astype(float)\n",
    "        obj_colored = colored(obj, j)\n",
    "        idx = j+i*6\n",
    "        npsave_3x6[idx,:,:,:] = obj_colored[15:15+32,2:2+32,:] #[::2,::2,:]"
   ]
  },
  {
   "cell_type": "code",
   "execution_count": 16,
   "id": "5db2e1bb-5200-41a7-841e-87c342d79ca0",
   "metadata": {},
   "outputs": [],
   "source": [
    "#np.save('E://P6_simplicity_bias//data//color_dsprite3x4.npy', npsave_tmp)"
   ]
  },
  {
   "cell_type": "code",
   "execution_count": 23,
   "id": "ea805924-9c7c-4c92-87a8-14a559cacc0c",
   "metadata": {},
   "outputs": [
    {
     "data": {
      "image/png": "[encoded data removed]",
      "text/plain": [
       "<Figure size 1100x550 with 18 Axes>"
      ]
     },
     "metadata": {},
     "output_type": "display_data"
    }
   ],
   "source": [
    "fig, ax = plt.subplots(3,6,figsize=(11,5.5))\n",
    "\n",
    "for i in range(3):\n",
    "    for j in range(6):\n",
    "        idx = j+i*6\n",
    "        ax[i][j].imshow(npsave_3x6[idx])\n",
    "        ax[i][j].axis('off')\n",
    "plt.tight_layout()\n",
    "#plt.savefig('E://P6_simplicity_bias//figures//colored_dsprite.pdf')"
   ]
  },
  {
   "cell_type": "code",
   "execution_count": 106,
   "id": "0eedbfb8-9335-43a5-b0e9-0bdd3dbdf5c2",
   "metadata": {},
   "outputs": [],
   "source": [
    "tmp = np.load('E://P6_simplicity_bias//data//color_dsprite3x4.npy')"
   ]
  },
  {
   "cell_type": "code",
   "execution_count": 107,
   "id": "b1c23a80-a170-4390-8383-dfad530daf89",
   "metadata": {},
   "outputs": [
    {
     "data": {
      "text/plain": [
       "(12, 64, 64, 3)"
      ]
     },
     "execution_count": 107,
     "metadata": {},
     "output_type": "execute_result"
    }
   ],
   "source": [
    "tmp.shape"
   ]
  },
  {
   "cell_type": "code",
   "execution_count": null,
   "id": "8d2e1173-4b74-4454-afd0-0cc455c05e36",
   "metadata": {},
   "outputs": [],
   "source": []
  }
 ],
 "metadata": {
  "kernelspec": {
   "display_name": "Python 3 (ipykernel)",
   "language": "python",
   "name": "python3"
  },
  "language_info": {
   "codemirror_mode": {
    "name": "ipython",
    "version": 3
   },
   "file_extension": ".py",
   "mimetype": "text/x-python",
   "name": "python",
   "nbconvert_exporter": "python",
   "pygments_lexer": "ipython3",
   "version": "3.10.14"
  }
 },
 "nbformat": 4,
 "nbformat_minor": 5
}
